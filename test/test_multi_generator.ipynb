{
 "cells": [
  {
   "cell_type": "code",
   "execution_count": 7,
   "id": "4e101548-b32f-459a-b53e-cc0cada80370",
   "metadata": {},
   "outputs": [],
   "source": [
    "import torch\n",
    "import model\n",
    "import torch.nn as nn\n",
    "import tifffile as tif\n",
    "import utils"
   ]
  },
  {
   "cell_type": "code",
   "execution_count": 8,
   "id": "4869ff08-7ef1-4845-9dea-67573c23d5ba",
   "metadata": {},
   "outputs": [
    {
     "data": {
      "text/plain": [
       "_IncompatibleKeys(missing_keys=['main.0.bias', 'main.3.phase_low', 'main.3.phase_high', 'main.4.phase_low', 'main.4.phase_high', 'main.5.phase_low', 'main.5.phase_high', 'main.6.bias'], unexpected_keys=[])"
      ]
     },
     "execution_count": 8,
     "metadata": {},
     "output_type": "execute_result"
    }
   ],
   "source": [
    "# 载入模型\n",
    "generator = model.DCGAN3D_G_CPU(isize=64, nz=512, nc=1, ngf=64, ngpu=0)\n",
    "\n",
    "# 加载训练好的模型权重\n",
    "checkpoint = torch.load('./model/berea/netG.pth', map_location='cpu')\n",
    "\n",
    "checkpoint = {k: v for k, v in checkpoint.items() if 'phase_low' not in k and 'phase_high' not in k}\n",
    "generator.load_state_dict(checkpoint, strict=False)"
   ]
  },
  {
   "cell_type": "code",
   "execution_count": 9,
   "id": "7eca650a-a8db-49e2-9709-1da87c2674c6",
   "metadata": {
    "scrolled": true
   },
   "outputs": [
    {
     "data": {
      "text/plain": [
       "torch.Size([5, 1, 128, 128])"
      ]
     },
     "execution_count": 9,
     "metadata": {},
     "output_type": "execute_result"
    }
   ],
   "source": [
    "data_tensor = utils.read_multi(\"./data/multi/\")\n",
    "data_tensor.shape"
   ]
  },
  {
   "cell_type": "code",
   "execution_count": 10,
   "id": "7a450fc7-b12e-4e87-9626-783a2da4be32",
   "metadata": {},
   "outputs": [
    {
     "name": "stdout",
     "output_type": "stream",
     "text": [
      "torch.Size([5, 512, 5, 5, 5])\n"
     ]
    }
   ],
   "source": [
    "# 假设我们想要的输出大小是 [n, 512, 5, 5, 5]\n",
    "b = 5\n",
    "encoder = utils.Encoder(b, data_tensor.shape[-1])\n",
    "\n",
    "# 通过编码器生成输出\n",
    "output = encoder(data_tensor)\n",
    "\n",
    "print(output.shape)  # 输出形状应为 [8, 512, 5, 5, 5]"
   ]
  },
  {
   "cell_type": "code",
   "execution_count": 11,
   "id": "cf861f4a-fc4f-41c9-a300-8f63948890e1",
   "metadata": {},
   "outputs": [
    {
     "name": "stdout",
     "output_type": "stream",
     "text": [
      "torch.Size([5, 1, 128, 128, 128])\n"
     ]
    }
   ],
   "source": [
    "# 测试生成器 1 是 64  3是96 5 是128  13是256\n",
    "# 输入大小为 [batch, nz, 1, 1, 1]\n",
    "generated_output = generator(output)\n",
    "print(generated_output.shape) "
   ]
  },
  {
   "cell_type": "code",
   "execution_count": 12,
   "id": "8c35c212-47ca-4648-8cac-56ced09f82dc",
   "metadata": {},
   "outputs": [],
   "source": [
    "utils.save_tiff(generated_output, \"./result/\")"
   ]
  },
  {
   "cell_type": "code",
   "execution_count": null,
   "id": "b5cc8d40-0a17-4cce-b48b-b94b0502cdc8",
   "metadata": {},
   "outputs": [],
   "source": []
  }
 ],
 "metadata": {
  "kernelspec": {
   "display_name": "Python 3 (ipykernel)",
   "language": "python",
   "name": "python3"
  },
  "language_info": {
   "codemirror_mode": {
    "name": "ipython",
    "version": 3
   },
   "file_extension": ".py",
   "mimetype": "text/x-python",
   "name": "python",
   "nbconvert_exporter": "python",
   "pygments_lexer": "ipython3",
   "version": "3.10.8"
  }
 },
 "nbformat": 4,
 "nbformat_minor": 5
}
