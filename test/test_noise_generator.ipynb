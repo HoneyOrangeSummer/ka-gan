{
 "cells": [
  {
   "cell_type": "code",
   "execution_count": 1,
   "id": "349b81ef-81bd-4de7-9acc-8975dc847184",
   "metadata": {},
   "outputs": [],
   "source": [
    "import torch\n",
    "import model"
   ]
  },
  {
   "cell_type": "code",
   "execution_count": 2,
   "id": "6610a537-3cfa-4451-808b-09d979396fa1",
   "metadata": {},
   "outputs": [],
   "source": [
    "# 载入模型\n",
    "generator = model.DCGAN3D_G_CPU(isize=64, nz=512, nc=1, ngf=64, ngpu=0)\n",
    "\n",
    "# 加载训练好的模型权重\n",
    "checkpoint = torch.load('./model/berea/netG.pth', map_location='cpu')\n",
    "\n",
    "checkpoint = {k: v for k, v in checkpoint.items() if 'phase_low' not in k and 'phase_high' not in k}"
   ]
  },
  {
   "cell_type": "code",
   "execution_count": 3,
   "id": "656326cb-a954-4d2f-af77-2e30de9d7b56",
   "metadata": {},
   "outputs": [
    {
     "data": {
      "text/plain": [
       "_IncompatibleKeys(missing_keys=['main.0.bias', 'main.3.phase_low', 'main.3.phase_high', 'main.4.phase_low', 'main.4.phase_high', 'main.5.phase_low', 'main.5.phase_high', 'main.6.bias'], unexpected_keys=[])"
      ]
     },
     "execution_count": 3,
     "metadata": {},
     "output_type": "execute_result"
    }
   ],
   "source": [
    "generator.load_state_dict(checkpoint, strict=False)"
   ]
  },
  {
   "cell_type": "code",
   "execution_count": 4,
   "id": "44d07bb3-a99d-4a5b-af34-4dd8b2b8fda9",
   "metadata": {},
   "outputs": [
    {
     "name": "stdout",
     "output_type": "stream",
     "text": [
      "torch.Size([1, 1, 128, 128, 128])\n"
     ]
    }
   ],
   "source": [
    "# 测试生成器 1 是 64  3是96 5 是128  13是256\n",
    "input_image = torch.randn(1, 512, 5, 5, 5)  # 输入大小为 [batch, nz, 4, 4, 4]\n",
    "generated_output = generator(input_image)\n",
    "print(generated_output.shape)  # 查看输出形状"
   ]
  },
  {
   "cell_type": "code",
   "execution_count": null,
   "id": "dc4a4a0e-7eef-410e-97fe-be5c9f20f5db",
   "metadata": {},
   "outputs": [],
   "source": []
  }
 ],
 "metadata": {
  "kernelspec": {
   "display_name": "Python 3 (ipykernel)",
   "language": "python",
   "name": "python3"
  },
  "language_info": {
   "codemirror_mode": {
    "name": "ipython",
    "version": 3
   },
   "file_extension": ".py",
   "mimetype": "text/x-python",
   "name": "python",
   "nbconvert_exporter": "python",
   "pygments_lexer": "ipython3",
   "version": "3.10.8"
  }
 },
 "nbformat": 4,
 "nbformat_minor": 5
}
