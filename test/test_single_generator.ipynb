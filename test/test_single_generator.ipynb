{
 "cells": [
  {
   "cell_type": "code",
   "execution_count": 1,
   "id": "ccc00aec-70ee-43db-94a3-c96fdc1939ef",
   "metadata": {},
   "outputs": [],
   "source": [
    "import torch\n",
    "import model\n",
    "import torch.nn as nn\n",
    "import tifffile as tif\n",
    "import utils"
   ]
  },
  {
   "cell_type": "markdown",
   "id": "502c4650-d6ca-4c89-abaa-61b5be3d4d68",
   "metadata": {},
   "source": [
    "# 加载模型"
   ]
  },
  {
   "cell_type": "code",
   "execution_count": 2,
   "id": "21c5f189-a22d-433e-b5dc-a20383511472",
   "metadata": {},
   "outputs": [
    {
     "ename": "RuntimeError",
     "evalue": "Error(s) in loading state_dict for DCGAN3D_G_CPU:\n\tsize mismatch for main.6.weight: copying a param with shape torch.Size([256, 128, 4, 4, 4]) from checkpoint, the shape in current model is torch.Size([64, 1, 4, 4, 4]).",
     "output_type": "error",
     "traceback": [
      "\u001b[0;31m---------------------------------------------------------------------------\u001b[0m",
      "\u001b[0;31mRuntimeError\u001b[0m                              Traceback (most recent call last)",
      "Cell \u001b[0;32mIn[2], line 8\u001b[0m\n\u001b[1;32m      5\u001b[0m checkpoint \u001b[38;5;241m=\u001b[39m torch\u001b[38;5;241m.\u001b[39mload(\u001b[38;5;124m'\u001b[39m\u001b[38;5;124m./model/berea_64/netG_epoch_200.pth\u001b[39m\u001b[38;5;124m'\u001b[39m, map_location\u001b[38;5;241m=\u001b[39m\u001b[38;5;124m'\u001b[39m\u001b[38;5;124mcpu\u001b[39m\u001b[38;5;124m'\u001b[39m)\n\u001b[1;32m      7\u001b[0m checkpoint \u001b[38;5;241m=\u001b[39m {k: v \u001b[38;5;28;01mfor\u001b[39;00m k, v \u001b[38;5;129;01min\u001b[39;00m checkpoint\u001b[38;5;241m.\u001b[39mitems() \u001b[38;5;28;01mif\u001b[39;00m \u001b[38;5;124m'\u001b[39m\u001b[38;5;124mphase_low\u001b[39m\u001b[38;5;124m'\u001b[39m \u001b[38;5;129;01mnot\u001b[39;00m \u001b[38;5;129;01min\u001b[39;00m k \u001b[38;5;129;01mand\u001b[39;00m \u001b[38;5;124m'\u001b[39m\u001b[38;5;124mphase_high\u001b[39m\u001b[38;5;124m'\u001b[39m \u001b[38;5;129;01mnot\u001b[39;00m \u001b[38;5;129;01min\u001b[39;00m k}\n\u001b[0;32m----> 8\u001b[0m \u001b[43mgenerator\u001b[49m\u001b[38;5;241;43m.\u001b[39;49m\u001b[43mload_state_dict\u001b[49m\u001b[43m(\u001b[49m\u001b[43mcheckpoint\u001b[49m\u001b[43m,\u001b[49m\u001b[43m \u001b[49m\u001b[43mstrict\u001b[49m\u001b[38;5;241;43m=\u001b[39;49m\u001b[38;5;28;43;01mFalse\u001b[39;49;00m\u001b[43m)\u001b[49m\n",
      "File \u001b[0;32m~/miniconda3/lib/python3.10/site-packages/torch/nn/modules/module.py:2152\u001b[0m, in \u001b[0;36mModule.load_state_dict\u001b[0;34m(self, state_dict, strict, assign)\u001b[0m\n\u001b[1;32m   2147\u001b[0m         error_msgs\u001b[38;5;241m.\u001b[39minsert(\n\u001b[1;32m   2148\u001b[0m             \u001b[38;5;241m0\u001b[39m, \u001b[38;5;124m'\u001b[39m\u001b[38;5;124mMissing key(s) in state_dict: \u001b[39m\u001b[38;5;132;01m{}\u001b[39;00m\u001b[38;5;124m. \u001b[39m\u001b[38;5;124m'\u001b[39m\u001b[38;5;241m.\u001b[39mformat(\n\u001b[1;32m   2149\u001b[0m                 \u001b[38;5;124m'\u001b[39m\u001b[38;5;124m, \u001b[39m\u001b[38;5;124m'\u001b[39m\u001b[38;5;241m.\u001b[39mjoin(\u001b[38;5;124mf\u001b[39m\u001b[38;5;124m'\u001b[39m\u001b[38;5;124m\"\u001b[39m\u001b[38;5;132;01m{\u001b[39;00mk\u001b[38;5;132;01m}\u001b[39;00m\u001b[38;5;124m\"\u001b[39m\u001b[38;5;124m'\u001b[39m \u001b[38;5;28;01mfor\u001b[39;00m k \u001b[38;5;129;01min\u001b[39;00m missing_keys)))\n\u001b[1;32m   2151\u001b[0m \u001b[38;5;28;01mif\u001b[39;00m \u001b[38;5;28mlen\u001b[39m(error_msgs) \u001b[38;5;241m>\u001b[39m \u001b[38;5;241m0\u001b[39m:\n\u001b[0;32m-> 2152\u001b[0m     \u001b[38;5;28;01mraise\u001b[39;00m \u001b[38;5;167;01mRuntimeError\u001b[39;00m(\u001b[38;5;124m'\u001b[39m\u001b[38;5;124mError(s) in loading state_dict for \u001b[39m\u001b[38;5;132;01m{}\u001b[39;00m\u001b[38;5;124m:\u001b[39m\u001b[38;5;130;01m\\n\u001b[39;00m\u001b[38;5;130;01m\\t\u001b[39;00m\u001b[38;5;132;01m{}\u001b[39;00m\u001b[38;5;124m'\u001b[39m\u001b[38;5;241m.\u001b[39mformat(\n\u001b[1;32m   2153\u001b[0m                        \u001b[38;5;28mself\u001b[39m\u001b[38;5;241m.\u001b[39m\u001b[38;5;18m__class__\u001b[39m\u001b[38;5;241m.\u001b[39m\u001b[38;5;18m__name__\u001b[39m, \u001b[38;5;124m\"\u001b[39m\u001b[38;5;130;01m\\n\u001b[39;00m\u001b[38;5;130;01m\\t\u001b[39;00m\u001b[38;5;124m\"\u001b[39m\u001b[38;5;241m.\u001b[39mjoin(error_msgs)))\n\u001b[1;32m   2154\u001b[0m \u001b[38;5;28;01mreturn\u001b[39;00m _IncompatibleKeys(missing_keys, unexpected_keys)\n",
      "\u001b[0;31mRuntimeError\u001b[0m: Error(s) in loading state_dict for DCGAN3D_G_CPU:\n\tsize mismatch for main.6.weight: copying a param with shape torch.Size([256, 128, 4, 4, 4]) from checkpoint, the shape in current model is torch.Size([64, 1, 4, 4, 4])."
     ]
    }
   ],
   "source": [
    "# 载入模型\n",
    "generator = model.DCGAN3D_G_CPU(isize=64, nz=512, nc=1, ngf=64, ngpu=0)\n",
    "\n",
    "# 加载训练好的模型权重\n",
    "checkpoint = torch.load('./model/berea_64/netG_epoch_700.pth', map_location='cpu')\n",
    "\n",
    "checkpoint = {k: v for k, v in checkpoint.items() if 'phase_low' not in k and 'phase_high' not in k}\n",
    "generator.load_state_dict(checkpoint, strict=False)"
   ]
  },
  {
   "cell_type": "markdown",
   "id": "44408d40-6d45-48c6-973a-1ce0eee7bd45",
   "metadata": {},
   "source": [
    "# 读数据"
   ]
  },
  {
   "cell_type": "code",
   "execution_count": 6,
   "id": "ef57fe39-fdbd-41e0-a4f8-6dd181169352",
   "metadata": {},
   "outputs": [
    {
     "data": {
      "text/plain": [
       "torch.Size([1, 1, 128, 128])"
      ]
     },
     "execution_count": 6,
     "metadata": {},
     "output_type": "execute_result"
    }
   ],
   "source": [
    "data = tif.imread(\"./data/berea_10_1.tif\")\n",
    "# 将数据转换为 float32 类型\n",
    "data_tensor = torch.tensor(data, dtype=torch.float32)\n",
    "\n",
    "# 扩展维度为 (1, 1, 64, 64)\n",
    "data_tensor = torch.unsqueeze(torch.unsqueeze(data_tensor, 0), 0)\n",
    "data_tensor.shape"
   ]
  },
  {
   "cell_type": "markdown",
   "id": "d3d27871-da94-411e-834e-890e316c5d3b",
   "metadata": {},
   "source": [
    "# 编码器编码"
   ]
  },
  {
   "cell_type": "code",
   "execution_count": 7,
   "id": "ad75ae1e-8b1f-4742-8c73-21bfc98f4c4f",
   "metadata": {},
   "outputs": [
    {
     "name": "stdout",
     "output_type": "stream",
     "text": [
      "torch.Size([1, 512, 5, 5, 5])\n"
     ]
    }
   ],
   "source": [
    "# 假设我们想要的输出大小是 [n, 512, 5, 5, 5]\n",
    "b = 5\n",
    "encoder = utils.Encoder(b, data_tensor.shape[-1])\n",
    "\n",
    "# 通过编码器生成输出\n",
    "output = encoder(data_tensor)\n",
    "\n",
    "print(output.shape)  # 输出形状应为 [8, 512, 5, 5, 5]"
   ]
  },
  {
   "cell_type": "markdown",
   "id": "4cd5861c-92eb-4d56-ac3e-cfa874c80ffa",
   "metadata": {},
   "source": [
    "# 生成并保存"
   ]
  },
  {
   "cell_type": "code",
   "execution_count": 8,
   "id": "8c0e398d-271b-48db-8f42-6d42a482594a",
   "metadata": {},
   "outputs": [
    {
     "name": "stdout",
     "output_type": "stream",
     "text": [
      "torch.Size([1, 1, 128, 128, 128])\n"
     ]
    }
   ],
   "source": [
    "# 测试生成器 1 是 64  3是96 5 是128  13是256\n",
    "# 输入大小为 [batch, nz, 1, 1, 1]\n",
    "generated_output = generator(output)\n",
    "print(generated_output.shape) "
   ]
  },
  {
   "cell_type": "code",
   "execution_count": 1,
   "id": "a97659e7-ac96-4edc-8d25-1ba9bdbfeb52",
   "metadata": {},
   "outputs": [
    {
     "ename": "NameError",
     "evalue": "name 'utils' is not defined",
     "output_type": "error",
     "traceback": [
      "\u001b[0;31m---------------------------------------------------------------------------\u001b[0m",
      "\u001b[0;31mNameError\u001b[0m                                 Traceback (most recent call last)",
      "Cell \u001b[0;32mIn[1], line 1\u001b[0m\n\u001b[0;32m----> 1\u001b[0m \u001b[43mutils\u001b[49m\u001b[38;5;241m.\u001b[39msave_tiff(generated_output, \u001b[38;5;124m\"\u001b[39m\u001b[38;5;124m./result/\u001b[39m\u001b[38;5;124m\"\u001b[39m)\n",
      "\u001b[0;31mNameError\u001b[0m: name 'utils' is not defined"
     ]
    }
   ],
   "source": [
    "utils.save_tiff(generated_output, \"./result/result_128.tif\")"
   ]
  },
  {
   "cell_type": "code",
   "execution_count": null,
   "id": "c86a00cb-a3b1-4903-b599-5f2dca91bf14",
   "metadata": {},
   "outputs": [],
   "source": []
  },
  {
   "cell_type": "code",
   "execution_count": null,
   "id": "4c01d2b6-d390-47df-bf4e-f48545f29ee0",
   "metadata": {},
   "outputs": [],
   "source": []
  }
 ],
 "metadata": {
  "kernelspec": {
   "display_name": "Python 3 (ipykernel)",
   "language": "python",
   "name": "python3"
  },
  "language_info": {
   "codemirror_mode": {
    "name": "ipython",
    "version": 3
   },
   "file_extension": ".py",
   "mimetype": "text/x-python",
   "name": "python",
   "nbconvert_exporter": "python",
   "pygments_lexer": "ipython3",
   "version": "3.10.8"
  }
 },
 "nbformat": 4,
 "nbformat_minor": 5
}
